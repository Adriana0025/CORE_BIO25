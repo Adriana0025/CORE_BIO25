{
 "cells": [
  {
   "cell_type": "code",
   "execution_count": null,
   "id": "bb47183a",
   "metadata": {
    "vscode": {
     "languageId": "plaintext"
    }
   },
   "outputs": [],
   "source": [
    "import biocrnpyler\n"
   ]
  }
 ],
 "metadata": {
  "language_info": {
   "name": "python"
  }
 },
 "nbformat": 4,
 "nbformat_minor": 5
}
